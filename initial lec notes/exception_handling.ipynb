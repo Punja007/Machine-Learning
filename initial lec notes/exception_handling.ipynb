{
 "cells": [
  {
   "cell_type": "code",
   "execution_count": 1,
   "metadata": {},
   "outputs": [
    {
     "name": "stdout",
     "output_type": "stream",
     "text": [
      "some problem may have occured\n"
     ]
    }
   ],
   "source": [
    "try:\n",
    "    ##Code in which exception might occur\n",
    "    a=b\n",
    "\n",
    "except:\n",
    "    ##code to solve or address the exception\n",
    "    ##will only be executed if exception occurs in try block\n",
    "    print(\"some problem may have occured\")\n"
   ]
  },
  {
   "cell_type": "code",
   "execution_count": 2,
   "metadata": {},
   "outputs": [
    {
     "name": "stdout",
     "output_type": "stream",
     "text": [
      "name 'd' is not defined\n"
     ]
    }
   ],
   "source": [
    "try:\n",
    "    c=d\n",
    "\n",
    "except Exception as ex:\n",
    "    print(ex)\n",
    "    ##prints the actual error\n",
    "    ##this Exception is of highest order so we cannot write it at the top\n",
    "    ##it is always written at the end"
   ]
  },
  {
   "cell_type": "code",
   "execution_count": 3,
   "metadata": {},
   "outputs": [
    {
     "name": "stdout",
     "output_type": "stream",
     "text": [
      "User has not declared a variable\n"
     ]
    }
   ],
   "source": [
    "try:\n",
    "    a=b\n",
    "\n",
    "except NameError as ex1:\n",
    "    print(\"User has not declared a variable\")\n",
    "\n",
    "except Exception as ex:\n",
    "    print(\"this will handle most of unknown exception if not caught by any except block above\")"
   ]
  },
  {
   "cell_type": "code",
   "execution_count": 4,
   "metadata": {},
   "outputs": [
    {
     "name": "stdout",
     "output_type": "stream",
     "text": [
      "this will handle most of unknown exception if not caught by any except block above\n"
     ]
    }
   ],
   "source": [
    "try:\n",
    "    a=1\n",
    "    b=\"string\"\n",
    "    a+b\n",
    "\n",
    "except NameError as ex1:\n",
    "    print(\"User has not declared a variable\")\n",
    "\n",
    "except Exception as ex:\n",
    "    print(\"this will handle most of unknown exception if not caught by any except block above\")\n",
    "\n",
    "    ##in this code the exception is not caught by the first block so the second block catches it and the exception handling is done.\n",
    "    ##in this case we can define a particular exception called as TypeError and it can handle it but if we do not want to get particular\n",
    "    ##we can use Exception as in general."
   ]
  },
  {
   "cell_type": "code",
   "execution_count": 5,
   "metadata": {},
   "outputs": [
    {
     "name": "stdout",
     "output_type": "stream",
     "text": [
      "3.0\n",
      "48\n",
      "16\n",
      "This block will always be executed no mater an exception occurs or not\n"
     ]
    }
   ],
   "source": [
    "try:\n",
    "    a = 12\n",
    "    b = 4\n",
    "\n",
    "    c = a/b\n",
    "    d = a*b\n",
    "    e = a+b\n",
    "\n",
    "except TypeError as ex1:\n",
    "    print(\"Type error found\")\n",
    "\n",
    "except NameError as ex2:\n",
    "    print(\"Name Error occured\")\n",
    "\n",
    "except Exception as ex:\n",
    "    print(ex)\n",
    "\n",
    "else:\n",
    "    ##try else block which executes if and only if no exception occurs\n",
    "    ##if any exception block executes then this block will not get executed\n",
    "    print(c)\n",
    "    print(d)\n",
    "    print(e)\n",
    "\n",
    "finally:\n",
    "    ##most probably it will be used to close a database i guess :)\n",
    "    print(\"This block will always be executed no mater an exception occurs or not\")"
   ]
  },
  {
   "cell_type": "markdown",
   "metadata": {},
   "source": [
    "Custom Exception"
   ]
  },
  {
   "cell_type": "code",
   "execution_count": 17,
   "metadata": {},
   "outputs": [],
   "source": [
    "class Error(Exception):\n",
    "    pass\n",
    "##created a common class for all 'custom' exceptions\n",
    "\n",
    "class dobException(Error):\n",
    "    pass\n",
    "##particular custom exception handling class"
   ]
  },
  {
   "cell_type": "code",
   "execution_count": 16,
   "metadata": {},
   "outputs": [
    {
     "name": "stdout",
     "output_type": "stream",
     "text": [
      "You cannot apply for the job\n"
     ]
    }
   ],
   "source": [
    "year = int(input(\"enter your birthg year: \"))\n",
    "age = 2024-year\n",
    "\n",
    "try:\n",
    "    if age<=30 & age>20:\n",
    "        print(\"you can apply for the job\")\n",
    "\n",
    "    else:\n",
    "        raise dobException\n",
    "    \n",
    "except dobException:\n",
    "    print(\"You cannot apply for the job\")\n",
    "\n",
    "    ## like this we can create custom exception"
   ]
  }
 ],
 "metadata": {
  "kernelspec": {
   "display_name": "base",
   "language": "python",
   "name": "python3"
  },
  "language_info": {
   "codemirror_mode": {
    "name": "ipython",
    "version": 3
   },
   "file_extension": ".py",
   "mimetype": "text/x-python",
   "name": "python",
   "nbconvert_exporter": "python",
   "pygments_lexer": "ipython3",
   "version": "3.11.5"
  }
 },
 "nbformat": 4,
 "nbformat_minor": 2
}

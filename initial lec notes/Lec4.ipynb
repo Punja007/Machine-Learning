{
 "cells": [
  {
   "cell_type": "code",
   "execution_count": null,
   "id": "93a21400",
   "metadata": {},
   "outputs": [],
   "source": [
    "s = \"hello my name is punja i was born in 2005 and i am 18 years old\"\n",
    "\n",
    "\n",
    "output_string = \"\"\n",
    "\n",
    "for i in s:\n",
    "    if i.isnumeric():\n",
    "        output_string = output_string + \"@\"\n",
    "    else:\n",
    "        output_string += i\n",
    "        \n",
    "output_string\n"
   ]
  },
  {
   "cell_type": "code",
   "execution_count": null,
   "id": "44476b06",
   "metadata": {},
   "outputs": [],
   "source": [
    "\n",
    "s2 = \"hello my name is punja i was born in 2005 and i am 18 years old\"\n",
    "\n",
    "\n",
    "output_string2 = \"\"\n",
    "\n",
    "for i in s2:\n",
    "    if i.isnumeric():\n",
    "        output_string2 += i\n",
    "    else:\n",
    "        output_string2 += \"@\"\n",
    "        \n",
    "output_string2"
   ]
  },
  {
   "cell_type": "code",
   "execution_count": 17,
   "id": "31128625",
   "metadata": {},
   "outputs": [
    {
     "name": "stdout",
     "output_type": "stream",
     "text": [
      "Enter the passwordpunja@567\n"
     ]
    },
    {
     "data": {
      "text/plain": [
       "'Password Saved'"
      ]
     },
     "execution_count": 17,
     "metadata": {},
     "output_type": "execute_result"
    }
   ],
   "source": [
    "#making password without using any\n",
    "#password must 1)contain special symbol 2)contain digit 3)be greater or equal to 8 in length \n",
    "from string import punctuation\n",
    "from string import digits\n",
    "\n",
    "def check_password(pwd):\n",
    "    cnt_punc = 0\n",
    "    cnt_digit = 0\n",
    "    if len(pwd) >= 8:\n",
    "        for i in pwd:\n",
    "            if i in punctuation:\n",
    "                cnt_punc += 1\n",
    "            if i in digits:\n",
    "                cnt_digit += 1\n",
    "\n",
    "        if cnt_punc > 0 and cnt_digit >0:\n",
    "            return \"Password Saved\"\n",
    "        else:\n",
    "            return \"Password Invalid\"\n",
    "check_password(input(\"Enter the password\"))"
   ]
  },
  {
   "cell_type": "code",
   "execution_count": 29,
   "id": "1ec3c328",
   "metadata": {},
   "outputs": [
    {
     "name": "stdout",
     "output_type": "stream",
     "text": [
      "Enter the passwordpunja@12345\n"
     ]
    },
    {
     "data": {
      "text/plain": [
       "'Password Saved'"
      ]
     },
     "execution_count": 29,
     "metadata": {},
     "output_type": "execute_result"
    }
   ],
   "source": [
    "#makeing password using any function\n",
    "\n",
    "from string import punctuation\n",
    "from string import digits\n",
    "\n",
    "punc = list(punctuation)\n",
    "dgt = list(digits)\n",
    "def check_password(pwd):\n",
    "    if len(pwd) >= 8:\n",
    "        if any (i in punc for i in pwd) and any(i in dgt for i in pwd):\n",
    "            return \"Password Saved\"\n",
    "        else:\n",
    "            return \"Password Invalid\"\n",
    "    else:\n",
    "            return \"Password Invalid\"\n",
    "check_password(input(\"Enter the password\"))"
   ]
  },
  {
   "cell_type": "code",
   "execution_count": 39,
   "id": "0350aaa4",
   "metadata": {},
   "outputs": [
    {
     "data": {
      "text/plain": [
       "'etirw tsuj lliw i'"
      ]
     },
     "execution_count": 39,
     "metadata": {},
     "output_type": "execute_result"
    }
   ],
   "source": [
    "s = \"i will just write here\"\n",
    "s[-6 ::-1]"
   ]
  }
 ],
 "metadata": {
  "kernelspec": {
   "display_name": "Python 3 (ipykernel)",
   "language": "python",
   "name": "python3"
  },
  "language_info": {
   "codemirror_mode": {
    "name": "ipython",
    "version": 3
   },
   "file_extension": ".py",
   "mimetype": "text/x-python",
   "name": "python",
   "nbconvert_exporter": "python",
   "pygments_lexer": "ipython3",
   "version": "3.11.5"
  }
 },
 "nbformat": 4,
 "nbformat_minor": 5
}

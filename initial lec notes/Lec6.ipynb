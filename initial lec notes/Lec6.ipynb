{
 "cells": [
  {
   "cell_type": "code",
   "execution_count": 4,
   "id": "93a21400",
   "metadata": {},
   "outputs": [
    {
     "data": {
      "text/plain": [
       "[1,\n",
       " 3,\n",
       " 5,\n",
       " 7,\n",
       " 9,\n",
       " 11,\n",
       " 13,\n",
       " 15,\n",
       " 17,\n",
       " 19,\n",
       " 21,\n",
       " 23,\n",
       " 25,\n",
       " 27,\n",
       " 29,\n",
       " 31,\n",
       " 33,\n",
       " 35,\n",
       " 37,\n",
       " 39,\n",
       " 41,\n",
       " 43,\n",
       " 45,\n",
       " 47,\n",
       " 49,\n",
       " 51,\n",
       " 53,\n",
       " 55,\n",
       " 57,\n",
       " 59,\n",
       " 61,\n",
       " 63,\n",
       " 65,\n",
       " 67,\n",
       " 69,\n",
       " 71,\n",
       " 73,\n",
       " 75,\n",
       " 77,\n",
       " 79,\n",
       " 81,\n",
       " 83,\n",
       " 85,\n",
       " 87,\n",
       " 89,\n",
       " 91,\n",
       " 93,\n",
       " 95,\n",
       " 97,\n",
       " 99]"
      ]
     },
     "execution_count": 4,
     "metadata": {},
     "output_type": "execute_result"
    }
   ],
   "source": [
    "[item for item in range(0, 100) if item%2 != 0]"
   ]
  },
  {
   "cell_type": "code",
   "execution_count": 6,
   "id": "b9c1e798",
   "metadata": {},
   "outputs": [
    {
     "data": {
      "text/plain": [
       "[0, 2, 3, 0, 0, 6, 0]"
      ]
     },
     "execution_count": 6,
     "metadata": {},
     "output_type": "execute_result"
    }
   ],
   "source": [
    "l = [\"hello\", 2, 3, True, 2.5, 6, False]\n",
    "[item if type(item) == int else 0 for item in l]"
   ]
  },
  {
   "cell_type": "code",
   "execution_count": 30,
   "id": "4b43aa54",
   "metadata": {},
   "outputs": [
    {
     "ename": "TypeError",
     "evalue": "unsupported operand type(s) for %: 'range' and 'int'",
     "output_type": "error",
     "traceback": [
      "\u001b[1;31m---------------------------------------------------------------------------\u001b[0m",
      "\u001b[1;31mTypeError\u001b[0m                                 Traceback (most recent call last)",
      "Cell \u001b[1;32mIn[30], line 1\u001b[0m\n\u001b[1;32m----> 1\u001b[0m [item\u001b[38;5;241m/\u001b[39m\u001b[38;5;241m2\u001b[39m \u001b[38;5;28;01mif\u001b[39;00m item \u001b[38;5;129;01min\u001b[39;00m \u001b[38;5;28mrange\u001b[39m(\u001b[38;5;241m0\u001b[39m, \u001b[38;5;241m100\u001b[39m)\u001b[38;5;241m%\u001b[39m\u001b[38;5;241m2\u001b[39m \u001b[38;5;241m!=\u001b[39m \u001b[38;5;241m0\u001b[39m \u001b[38;5;28;01melse\u001b[39;00m item \u001b[38;5;28;01mfor\u001b[39;00m item \u001b[38;5;129;01min\u001b[39;00m \u001b[38;5;28mrange\u001b[39m(\u001b[38;5;241m0\u001b[39m, \u001b[38;5;241m100\u001b[39m)]\n",
      "Cell \u001b[1;32mIn[30], line 1\u001b[0m, in \u001b[0;36m<listcomp>\u001b[1;34m(.0)\u001b[0m\n\u001b[1;32m----> 1\u001b[0m [item\u001b[38;5;241m/\u001b[39m\u001b[38;5;241m2\u001b[39m \u001b[38;5;28;01mif\u001b[39;00m item \u001b[38;5;129;01min\u001b[39;00m \u001b[38;5;28mrange\u001b[39m(\u001b[38;5;241m0\u001b[39m, \u001b[38;5;241m100\u001b[39m)\u001b[38;5;241m%\u001b[39m\u001b[38;5;241m2\u001b[39m \u001b[38;5;241m!=\u001b[39m \u001b[38;5;241m0\u001b[39m \u001b[38;5;28;01melse\u001b[39;00m item \u001b[38;5;28;01mfor\u001b[39;00m item \u001b[38;5;129;01min\u001b[39;00m \u001b[38;5;28mrange\u001b[39m(\u001b[38;5;241m0\u001b[39m, \u001b[38;5;241m100\u001b[39m)]\n",
      "\u001b[1;31mTypeError\u001b[0m: unsupported operand type(s) for %: 'range' and 'int'"
     ]
    }
   ],
   "source": [
    "[item/2 if item for item in range(0, 100)%2 != 0 else item for item in range(0, 100)]"
   ]
  },
  {
   "cell_type": "code",
   "execution_count": 34,
   "id": "8eb9640e",
   "metadata": {
    "scrolled": false
   },
   "outputs": [
    {
     "data": {
      "text/plain": [
       "[1,\n",
       " 1,\n",
       " 3,\n",
       " 2,\n",
       " 5,\n",
       " 3,\n",
       " 7,\n",
       " 4,\n",
       " 9,\n",
       " 5,\n",
       " 11,\n",
       " 6,\n",
       " 13,\n",
       " 7,\n",
       " 15,\n",
       " 8,\n",
       " 17,\n",
       " 9,\n",
       " 19,\n",
       " 10,\n",
       " 21,\n",
       " 11,\n",
       " 23,\n",
       " 12,\n",
       " 25,\n",
       " 13,\n",
       " 27,\n",
       " 14,\n",
       " 29,\n",
       " 15,\n",
       " 31,\n",
       " 16,\n",
       " 33,\n",
       " 17,\n",
       " 35,\n",
       " 18,\n",
       " 37,\n",
       " 19,\n",
       " 39,\n",
       " 20,\n",
       " 41,\n",
       " 21,\n",
       " 43,\n",
       " 22,\n",
       " 45,\n",
       " 23,\n",
       " 47,\n",
       " 24,\n",
       " 49,\n",
       " 25,\n",
       " 51,\n",
       " 26,\n",
       " 53,\n",
       " 27,\n",
       " 55,\n",
       " 28,\n",
       " 57,\n",
       " 29,\n",
       " 59,\n",
       " 30,\n",
       " 61,\n",
       " 31,\n",
       " 63,\n",
       " 32,\n",
       " 65,\n",
       " 33,\n",
       " 67,\n",
       " 34,\n",
       " 69,\n",
       " 35,\n",
       " 71,\n",
       " 36,\n",
       " 73,\n",
       " 37,\n",
       " 75,\n",
       " 38,\n",
       " 77,\n",
       " 39,\n",
       " 79,\n",
       " 40,\n",
       " 81,\n",
       " 41,\n",
       " 83,\n",
       " 42,\n",
       " 85,\n",
       " 43,\n",
       " 87,\n",
       " 44,\n",
       " 89,\n",
       " 45,\n",
       " 91,\n",
       " 46,\n",
       " 93,\n",
       " 47,\n",
       " 95,\n",
       " 48,\n",
       " 97,\n",
       " 49,\n",
       " 99]"
      ]
     },
     "execution_count": 34,
     "metadata": {},
     "output_type": "execute_result"
    }
   ],
   "source": [
    "[int(item/2) if item%2 == 0 else item for item in range(1, 100)]"
   ]
  },
  {
   "cell_type": "code",
   "execution_count": 37,
   "id": "e27767c1",
   "metadata": {},
   "outputs": [
    {
     "data": {
      "text/plain": [
       "[2, 3, 5, 7, 11, 13, 17, 19, 23, 29, 31, 37, 41, 43, 47]"
      ]
     },
     "execution_count": 37,
     "metadata": {},
     "output_type": "execute_result"
    }
   ],
   "source": [
    "[item for item in range(2, 50) if 0 not in [item % j for j in range(2, item)]]"
   ]
  },
  {
   "cell_type": "code",
   "execution_count": 48,
   "id": "7f225cd7",
   "metadata": {},
   "outputs": [
    {
     "data": {
      "text/plain": [
       "[1, 1, 1, 2, 2, 3, 3, 4, 4, 5, 6, 7, 8, 8, 9, 11, 0, 0, 0, 0]"
      ]
     },
     "execution_count": 48,
     "metadata": {},
     "output_type": "execute_result"
    }
   ],
   "source": [
    "l = [2, 4, 3, 8, 0, 6, 1, 3, 1, 0, 0, 4, 1, 9, 5, 8, 7, 0, 2, 11]\n",
    "sorted([i for i in l if i != 0]) + [item for item in l if item == 0]"
   ]
  },
  {
   "cell_type": "code",
   "execution_count": 55,
   "id": "1e0a3e83",
   "metadata": {},
   "outputs": [
    {
     "data": {
      "text/plain": [
       "[1, 4, 9, 16, 25, 36]"
      ]
     },
     "execution_count": 55,
     "metadata": {},
     "output_type": "execute_result"
    }
   ],
   "source": [
    "#lambda function\n",
    "lambda x: x**2\n",
    "\n",
    "#map\n",
    "list(map(lambda x:x**2, [1, 2, 3, 4, 5, 6]))"
   ]
  },
  {
   "cell_type": "code",
   "execution_count": 57,
   "id": "e49f3d4e",
   "metadata": {},
   "outputs": [
    {
     "data": {
      "text/plain": [
       "21"
      ]
     },
     "execution_count": 57,
     "metadata": {},
     "output_type": "execute_result"
    }
   ],
   "source": [
    "from functools import reduce\n",
    "reduce(lambda x, y:x + y, [1, 2, 3, 4, 5, 6])"
   ]
  },
  {
   "cell_type": "code",
   "execution_count": 64,
   "id": "3f37c852",
   "metadata": {},
   "outputs": [
    {
     "data": {
      "text/plain": [
       "[3, 4, 5, 6]"
      ]
     },
     "execution_count": 64,
     "metadata": {},
     "output_type": "execute_result"
    }
   ],
   "source": [
    "list(filter(lambda x : x>2, [1, 2, 3, 4, 5, 6]))"
   ]
  },
  {
   "cell_type": "code",
   "execution_count": null,
   "id": "3ebc2089",
   "metadata": {},
   "outputs": [],
   "source": []
  }
 ],
 "metadata": {
  "kernelspec": {
   "display_name": "Python 3 (ipykernel)",
   "language": "python",
   "name": "python3"
  },
  "language_info": {
   "codemirror_mode": {
    "name": "ipython",
    "version": 3
   },
   "file_extension": ".py",
   "mimetype": "text/x-python",
   "name": "python",
   "nbconvert_exporter": "python",
   "pygments_lexer": "ipython3",
   "version": "3.11.5"
  }
 },
 "nbformat": 4,
 "nbformat_minor": 5
}

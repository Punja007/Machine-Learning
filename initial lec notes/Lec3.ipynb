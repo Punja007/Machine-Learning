{
 "cells": [
  {
   "cell_type": "code",
   "execution_count": 120,
   "id": "ffce630e",
   "metadata": {},
   "outputs": [],
   "source": [
    "s = \"saturday are the time for playing and enjoying not for studying\"\n",
    "l = [\"are\", \"the\", \"for\", \"and\", \"an\", \"if\"]\n",
    "x = s.split()\n",
    "y = []"
   ]
  },
  {
   "cell_type": "code",
   "execution_count": 121,
   "id": "35c8e9b8",
   "metadata": {},
   "outputs": [
    {
     "data": {
      "text/plain": [
       "'saturday @ @ time @ playing @ enjoying not @ studyin'"
      ]
     },
     "execution_count": 121,
     "metadata": {},
     "output_type": "execute_result"
    }
   ],
   "source": [
    "for item in s.split():\n",
    "    if item in l:\n",
    "        y.append('@')\n",
    "    else:\n",
    "        y.append(item)\n",
    "\n",
    "\" \".join(y)[:-1]"
   ]
  },
  {
   "cell_type": "code",
   "execution_count": 122,
   "id": "1274cace",
   "metadata": {},
   "outputs": [],
   "source": [
    "\n",
    "for i in range(len(x)):\n",
    "    if x[i] in l:\n",
    "        x[i] = '@'\n"
   ]
  },
  {
   "cell_type": "code",
   "execution_count": null,
   "id": "79144af3",
   "metadata": {},
   "outputs": [],
   "source": []
  }
 ],
 "metadata": {
  "kernelspec": {
   "display_name": "Python 3 (ipykernel)",
   "language": "python",
   "name": "python3"
  },
  "language_info": {
   "codemirror_mode": {
    "name": "ipython",
    "version": 3
   },
   "file_extension": ".py",
   "mimetype": "text/x-python",
   "name": "python",
   "nbconvert_exporter": "python",
   "pygments_lexer": "ipython3",
   "version": "3.11.5"
  }
 },
 "nbformat": 4,
 "nbformat_minor": 5
}

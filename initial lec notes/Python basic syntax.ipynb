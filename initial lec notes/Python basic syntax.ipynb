{
 "cells": [
  {
   "cell_type": "code",
   "execution_count": 68,
   "id": "adddb4b2",
   "metadata": {},
   "outputs": [
    {
     "name": "stdout",
     "output_type": "stream",
     "text": [
      "hello from function\n",
      "multi line statment is working\n",
      "0\n",
      "2\n",
      "4\n",
      "6\n",
      "8\n",
      "random number\n",
      "6\n"
     ]
    }
   ],
   "source": [
    "import random\n",
    "def our_func():\n",
    "    print(\"hello from function\")\n",
    "    \n",
    "our_func()\n",
    "\n",
    "#in python, single quote and double quote both can be used to write stirngs also there are two types\n",
    "#of string. 1) single line (' ' / \" \")\n",
    "#           2) multi line ('''this'''  /  \"\"\"this\"\"\")\n",
    "#multi line comments can be used to print something while living a line's space in between it can be\n",
    "#operated using enter.\n",
    "\n",
    "\n",
    "#MULTI LINE STATMENTS\n",
    "if(1 < 2) and (2 > 1) and \\\n",
    "    (1 == 1):\n",
    "    print(\"multi line statment is working\")\n",
    "    \n",
    "for i in range(0, 10, 2):\n",
    "    print(i)\n",
    "    \n",
    "print(\"random number\")\n",
    "print(random.randint(1,6))"
   ]
  }
 ],
 "metadata": {
  "kernelspec": {
   "display_name": "Python 3 (ipykernel)",
   "language": "python",
   "name": "python3"
  },
  "language_info": {
   "codemirror_mode": {
    "name": "ipython",
    "version": 3
   },
   "file_extension": ".py",
   "mimetype": "text/x-python",
   "name": "python",
   "nbconvert_exporter": "python",
   "pygments_lexer": "ipython3",
   "version": "3.11.5"
  }
 },
 "nbformat": 4,
 "nbformat_minor": 5
}

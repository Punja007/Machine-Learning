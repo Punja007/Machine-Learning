{
 "cells": [
  {
   "cell_type": "code",
   "execution_count": null,
   "id": "93a21400",
   "metadata": {},
   "outputs": [],
   "source": [
    "d= {1: \"apple\", 2: \"banana\"}\n",
    "d\n",
    "\n",
    "d[3] = \"hello\"\n",
    "d\n",
    "\n"
   ]
  },
  {
   "cell_type": "code",
   "execution_count": null,
   "id": "ba45485c",
   "metadata": {},
   "outputs": [],
   "source": [
    "x = {\"kp2005\": [\"punja\", 18, \"student\"], \"aiml041\":[\"prakash\", 17, \"Not Working\"], \"mp0282\": [\"mantosh\", 28, \"DL Engineer\"]}\n",
    "x\n",
    "\n"
   ]
  },
  {
   "cell_type": "code",
   "execution_count": null,
   "id": "e0645559",
   "metadata": {},
   "outputs": [],
   "source": [
    "x[\"aiml041\"]"
   ]
  },
  {
   "cell_type": "code",
   "execution_count": null,
   "id": "e1838f73",
   "metadata": {},
   "outputs": [],
   "source": [
    "x[\"aiml041\"][-1] = \"Software Dev\"\n",
    "x\n",
    "x"
   ]
  },
  {
   "cell_type": "code",
   "execution_count": null,
   "id": "0c1281b1",
   "metadata": {},
   "outputs": [],
   "source": [
    "for item in x.keys():\n",
    "    print(item, end = ' ')\n",
    "    \n"
   ]
  },
  {
   "cell_type": "code",
   "execution_count": null,
   "id": "01a6b0da",
   "metadata": {},
   "outputs": [],
   "source": [
    "    for item in x.keys():\n",
    "        x[item][1] += 1\n",
    "\n",
    "x"
   ]
  },
  {
   "cell_type": "code",
   "execution_count": null,
   "id": "f8111e65",
   "metadata": {},
   "outputs": [],
   "source": [
    "y = {\"kp2005\": {\"name\": \"punja\",\"age\" :  18, \"job\" : \"student\"},\n",
    "         \"aiml041\":{\"name\" : \"prakash\",\"age\" : 17, \"job\" : \"Not Working\"},\n",
    "         \"mp0282\": {\"name\" : \"mantosh\",\"age\" : 28, \"job\" : \"DL Engineer\"}}\n",
    "\n",
    "y"
   ]
  },
  {
   "cell_type": "code",
   "execution_count": 1,
   "id": "ea2fac31",
   "metadata": {},
   "outputs": [
    {
     "name": "stdout",
     "output_type": "stream",
     "text": [
      "Enter no of peoples2\n",
      "enter key: pk2005\n",
      "enter name: punja\n",
      "enter age: 18\n",
      "enter College name: ldce\n",
      "enter key: dev2004\n",
      "enter name: devashish\n",
      "enter age: 19\n",
      "enter College name: xaviers\n"
     ]
    },
    {
     "data": {
      "text/plain": [
       "{0: {'pk2005': {'name': 'punja', 'age': '18', 'clg': 'ldce'}},\n",
       " 1: {'dev2004': {'name': 'devashish', 'age': '19', 'clg': 'xaviers'}}}"
      ]
     },
     "execution_count": 1,
     "metadata": {},
     "output_type": "execute_result"
    }
   ],
   "source": [
    "n = input(\"Enter no of peoples\")\n",
    "z = dict()\n",
    "\n",
    "for i in range(int(n)):\n",
    "    z[i] = {input(\"enter key: \") : {\"name\" : input(\"enter name: \"),\n",
    "                                    \"age\" : input(\"enter age: \"),\n",
    "                                    \"clg\" :input(\"enter College name: \")}}\n",
    "\n",
    "z"
   ]
  },
  {
   "cell_type": "code",
   "execution_count": 1,
   "id": "81fca14a",
   "metadata": {},
   "outputs": [
    {
     "name": "stdout",
     "output_type": "stream",
     "text": [
      "Enter the no of people2\n",
      "enter name: fa\n",
      "enter age: sfsef\n",
      "enter job role: fesf\n",
      "enter key: sefesf\n",
      "enter name: sefesf\n",
      "enter age: fesfs\n",
      "enter job role: sfsef\n",
      "enter key: sfsef\n"
     ]
    },
    {
     "data": {
      "text/plain": [
       "{'sefesf': {'name': 'fa', 'age': 'sfsef', 'job': 'fesf'},\n",
       " 'sfsef': {'name': 'sefesf', 'age': 'fesfs', 'job': 'sfsef'}}"
      ]
     },
     "execution_count": 1,
     "metadata": {},
     "output_type": "execute_result"
    }
   ],
   "source": [
    "#upper user input code was slightly wronng it as it was giving 3 nested dictionaries \n",
    "#this code is the fixed version of that it only gives 2 nested dictionaries as  we wanted\n",
    "\n",
    "n = input(\"Enter the no of people\")\n",
    "p = dict()\n",
    "\n",
    "for i in range(int(n)):\n",
    "    p[input(\"enter key: \")] = {\"name\" : input(\"enter name: \"),\n",
    "                            \"age\" : input(\"enter age: \"),\n",
    "                            \"job\" : input(\"enter job role: \")}\n",
    "    \n",
    "p"
   ]
  }
 ],
 "metadata": {
  "kernelspec": {
   "display_name": "Python 3 (ipykernel)",
   "language": "python",
   "name": "python3"
  },
  "language_info": {
   "codemirror_mode": {
    "name": "ipython",
    "version": 3
   },
   "file_extension": ".py",
   "mimetype": "text/x-python",
   "name": "python",
   "nbconvert_exporter": "python",
   "pygments_lexer": "ipython3",
   "version": "3.11.5"
  }
 },
 "nbformat": 4,
 "nbformat_minor": 5
}

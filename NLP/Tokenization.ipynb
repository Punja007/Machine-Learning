{
 "cells": [
  {
   "cell_type": "markdown",
   "metadata": {},
   "source": [
    "## Tokenization\n",
    "### Tokenization is the process to split the paragraphs into sentences or words."
   ]
  },
  {
   "cell_type": "code",
   "execution_count": 372,
   "metadata": {},
   "outputs": [],
   "source": [
    "import nltk\n",
    "from nltk.tokenize import sent_tokenize\n",
    "from nltk.tokenize import word_tokenize"
   ]
  },
  {
   "cell_type": "code",
   "execution_count": 373,
   "metadata": {},
   "outputs": [],
   "source": [
    "corpus = \"\"\"Hello my name is kuchhadiya punja. i study at ld college of engineering. i am currently enrolled in artificial intelligence and machine learning course of udemy. i am currently learning NLP! in NLP i am currently learning tokenization using NLTK.\"\"\""
   ]
  },
  {
   "cell_type": "code",
   "execution_count": 374,
   "metadata": {},
   "outputs": [
    {
     "name": "stdout",
     "output_type": "stream",
     "text": [
      "Hello my name is kuchhadiya punja.\n",
      "i study at ld college of engineering.\n",
      "i am currently enrolled in artificial intelligence and machine learning course of udemy.\n",
      "i am currently learning NLP!\n",
      "in NLP i am currently learning tokenization using NLTK.\n"
     ]
    }
   ],
   "source": [
    "document = sent_tokenize(corpus, language='english')\n",
    "for i in document:\n",
    "    print(i)"
   ]
  },
  {
   "cell_type": "code",
   "execution_count": 375,
   "metadata": {},
   "outputs": [
    {
     "data": {
      "text/plain": [
       "['Hello',\n",
       " 'my',\n",
       " 'name',\n",
       " 'is',\n",
       " 'kuchhadiya',\n",
       " 'punja',\n",
       " '.',\n",
       " 'i',\n",
       " 'study',\n",
       " 'at',\n",
       " 'ld',\n",
       " 'college',\n",
       " 'of',\n",
       " 'engineering',\n",
       " '.',\n",
       " 'i',\n",
       " 'am',\n",
       " 'currently',\n",
       " 'enrolled',\n",
       " 'in',\n",
       " 'artificial',\n",
       " 'intelligence',\n",
       " 'and',\n",
       " 'machine',\n",
       " 'learning',\n",
       " 'course',\n",
       " 'of',\n",
       " 'udemy',\n",
       " '.',\n",
       " 'i',\n",
       " 'am',\n",
       " 'currently',\n",
       " 'learning',\n",
       " 'NLP',\n",
       " '!',\n",
       " 'in',\n",
       " 'NLP',\n",
       " 'i',\n",
       " 'am',\n",
       " 'currently',\n",
       " 'learning',\n",
       " 'tokenization',\n",
       " 'using',\n",
       " 'NLTK',\n",
       " '.']"
      ]
     },
     "execution_count": 375,
     "metadata": {},
     "output_type": "execute_result"
    }
   ],
   "source": [
    "word_tokenize(corpus)"
   ]
  },
  {
   "cell_type": "markdown",
   "metadata": {},
   "source": [
    "## Stemming\n",
    "### Stemming is the process of removing the prefix and suffix of the words\n",
    "#### for example moves, moving, moved are basically 'move'. so it converts all of this to their stem"
   ]
  },
  {
   "cell_type": "code",
   "execution_count": 376,
   "metadata": {},
   "outputs": [],
   "source": [
    "from nltk.stem import PorterStemmer"
   ]
  },
  {
   "cell_type": "code",
   "execution_count": 377,
   "metadata": {},
   "outputs": [],
   "source": [
    "words = [\n",
    "    \"running\", \"jumps\", \"easily\", \"faster\", \"happily\", \"studies\", \"flies\",  \n",
    "    \"driving\", \"eaten\", \"creating\", \"better\", \"stronger\", \"worse\",  \n",
    "    \"fishing\", \"thoughtful\", \"walking\", \"unhappiness\", \"nationality\",  \n",
    "    \"singing\", \"organization\", \"arguing\", \"simplified\", \"playing\",  \n",
    "    \"working\", \"swimming\", \"quickly\", \"married\", \"loving\", \"caring\"\n",
    "]\n"
   ]
  },
  {
   "cell_type": "code",
   "execution_count": 378,
   "metadata": {},
   "outputs": [],
   "source": [
    "ps = PorterStemmer()"
   ]
  },
  {
   "cell_type": "code",
   "execution_count": 379,
   "metadata": {},
   "outputs": [
    {
     "name": "stdout",
     "output_type": "stream",
     "text": [
      "running-------->run\n",
      "jumps-------->jump\n",
      "easily-------->easili\n",
      "faster-------->faster\n",
      "happily-------->happili\n",
      "studies-------->studi\n",
      "flies-------->fli\n",
      "driving-------->drive\n",
      "eaten-------->eaten\n",
      "creating-------->creat\n",
      "better-------->better\n",
      "stronger-------->stronger\n",
      "worse-------->wors\n",
      "fishing-------->fish\n",
      "thoughtful-------->thought\n",
      "walking-------->walk\n",
      "unhappiness-------->unhappi\n",
      "nationality-------->nation\n",
      "singing-------->sing\n",
      "organization-------->organ\n",
      "arguing-------->argu\n",
      "simplified-------->simplifi\n",
      "playing-------->play\n",
      "working-------->work\n",
      "swimming-------->swim\n",
      "quickly-------->quickli\n",
      "married-------->marri\n",
      "loving-------->love\n",
      "caring-------->care\n"
     ]
    }
   ],
   "source": [
    "\n",
    "for i in words:\n",
    "    print((i)+\"-------->\"+ps.stem(i))\n",
    "    "
   ]
  },
  {
   "cell_type": "code",
   "execution_count": 380,
   "metadata": {},
   "outputs": [],
   "source": [
    "from nltk.stem import SnowballStemmer\n",
    "\n",
    "ss = SnowballStemmer('english')"
   ]
  },
  {
   "cell_type": "code",
   "execution_count": 381,
   "metadata": {},
   "outputs": [
    {
     "name": "stdout",
     "output_type": "stream",
     "text": [
      "goe\n",
      "fairli\n",
      "goe\n",
      "fair\n"
     ]
    }
   ],
   "source": [
    "print(ps.stem('goes'))\n",
    "print(ps.stem(\"fairly\"))\n",
    "print(ss.stem(\"goes\"))\n",
    "print(ss.stem(\"fairly\"))"
   ]
  },
  {
   "cell_type": "markdown",
   "metadata": {},
   "source": [
    "## Lemmatization:\n",
    "### Lemmatization is similar to stemming where the output is called 'lemma' which is the root word of the input word\n",
    "#### as seen above stemming is great but it fails in some cases like goes"
   ]
  },
  {
   "cell_type": "code",
   "execution_count": 382,
   "metadata": {},
   "outputs": [],
   "source": [
    "from nltk.stem import WordNetLemmatizer\n",
    "\n",
    "lmtz = WordNetLemmatizer()"
   ]
  },
  {
   "cell_type": "code",
   "execution_count": 383,
   "metadata": {},
   "outputs": [
    {
     "name": "stdout",
     "output_type": "stream",
     "text": [
      "running-------->run\n",
      "jumps-------->jump\n",
      "easily-------->easily\n",
      "faster-------->faster\n",
      "happily-------->happily\n",
      "studies-------->study\n",
      "flies-------->fly\n",
      "driving-------->drive\n",
      "eaten-------->eat\n",
      "creating-------->create\n",
      "better-------->better\n",
      "stronger-------->stronger\n",
      "worse-------->worse\n",
      "fishing-------->fish\n",
      "thoughtful-------->thoughtful\n",
      "walking-------->walk\n",
      "unhappiness-------->unhappiness\n",
      "nationality-------->nationality\n",
      "singing-------->sing\n",
      "organization-------->organization\n",
      "arguing-------->argue\n",
      "simplified-------->simplify\n",
      "playing-------->play\n",
      "working-------->work\n",
      "swimming-------->swim\n",
      "quickly-------->quickly\n",
      "married-------->marry\n",
      "loving-------->love\n",
      "caring-------->care\n"
     ]
    }
   ],
   "source": [
    "\n",
    "for i in words:\n",
    "    print((i)+\"-------->\"+lmtz.lemmatize(i,pos='v'))\n",
    "\n",
    "    ## much better result compared to stemming"
   ]
  },
  {
   "cell_type": "code",
   "execution_count": 384,
   "metadata": {},
   "outputs": [
    {
     "data": {
      "text/plain": [
       "'go'"
      ]
     },
     "execution_count": 384,
     "metadata": {},
     "output_type": "execute_result"
    }
   ],
   "source": [
    "lmtz.lemmatize('goes')"
   ]
  },
  {
   "cell_type": "markdown",
   "metadata": {},
   "source": [
    "## Stemming is fast but sometimes it dont give good results\n",
    "## Lemmatizer is slow but better"
   ]
  },
  {
   "cell_type": "markdown",
   "metadata": {},
   "source": [
    "## Stopwords:\n",
    "###  all the extra words are called stopwords.\n",
    "#### Eg:The,Their etc"
   ]
  },
  {
   "cell_type": "code",
   "execution_count": 385,
   "metadata": {},
   "outputs": [],
   "source": [
    "from nltk.corpus import stopwords"
   ]
  },
  {
   "cell_type": "code",
   "execution_count": 386,
   "metadata": {},
   "outputs": [],
   "source": [
    "para = \"In the year 1960, APJ Abdul Kalam’s graduation took place from Madras Institute of Technology. The association of Kalam took place with the Defence Research & Development Service (DRDS). Furthermore, he joined as a scientist at the Aeronautical Development Establishment of the Defence Research and Development Organisation. These were the beginning achievements of his prestigious career as a scientist.Big achievement for Kalam came when he was the project director at ISRO of India‘s first-ever Satellite Launch Vehicle (SLV- III). This satellite was responsible for the deployment of the Rohini satellite in 1980. Moreover, Kalam was highly influential in the development of Polar Satellite Launch Vehicle (PSLV) and SLV projects.Both projects were successful. Bringing enhancement in the reputation of Kalam. Furthermore, the development of ballistic missiles was possible because of the efforts of this man. Most noteworthy, Kalam earned the esteemed title of “The missile Man of India”. The Government of India became aware of the brilliance of this man and made him the Chief Executive of the Integrated Guided Missiles Development Program (IGMDP). Furthermore, this program was responsible for the research and development of Missiles. The achievements of this distinguished man didn't stop there.More success was to come in the form of Agni and Prithvi missiles. Once again, Kalam was influential in the developments of these missiles. It was during his tenure in IGMDP that Kalam played an instrumental role in the developments of missiles like Agni and Prithvi. Moreover, Kamal was a key figure in the Pokhran II nuclear test.\""
   ]
  },
  {
   "cell_type": "code",
   "execution_count": 387,
   "metadata": {},
   "outputs": [
    {
     "name": "stdout",
     "output_type": "stream",
     "text": [
      "In the year 1960, APJ Abdul Kalam’s graduation took place from Madras Institute of Technology. The association of Kalam took place with the Defence Research & Development Service (DRDS). Furthermore, he joined as a scientist at the Aeronautical Development Establishment of the Defence Research and Development Organisation. These were the beginning achievements of his prestigious career as a scientist.Big achievement for Kalam came when he was the project director at ISRO of India‘s first-ever Satellite Launch Vehicle (SLV- III). This satellite was responsible for the deployment of the Rohini satellite in 1980. Moreover, Kalam was highly influential in the development of Polar Satellite Launch Vehicle (PSLV) and SLV projects.Both projects were successful. Bringing enhancement in the reputation of Kalam. Furthermore, the development of ballistic missiles was possible because of the efforts of this man. Most noteworthy, Kalam earned the esteemed title of “The missile Man of India”. The Government of India became aware of the brilliance of this man and made him the Chief Executive of the Integrated Guided Missiles Development Program (IGMDP). Furthermore, this program was responsible for the research and development of Missiles. The achievements of this distinguished man didn't stop there.More success was to come in the form of Agni and Prithvi missiles. Once again, Kalam was influential in the developments of these missiles. It was during his tenure in IGMDP that Kalam played an instrumental role in the developments of missiles like Agni and Prithvi. Moreover, Kamal was a key figure in the Pokhran II nuclear test.\n"
     ]
    }
   ],
   "source": [
    "print(para)\n",
    "\n",
    "\n",
    "\n",
    "## for removing all punctuation\n",
    "# from nltk.tokenize import RegexpTokenizer\n",
    "# tokenizer = RegexpTokenizer(r'\\w+')\n",
    "# tokens = tokenizer.tokenize(para)"
   ]
  },
  {
   "cell_type": "code",
   "execution_count": 388,
   "metadata": {},
   "outputs": [],
   "source": [
    "para = word_tokenize(para)"
   ]
  },
  {
   "cell_type": "code",
   "execution_count": 389,
   "metadata": {},
   "outputs": [
    {
     "name": "stdout",
     "output_type": "stream",
     "text": [
      "['i', 'me', 'my', 'myself', 'we', 'our', 'ours', 'ourselves', 'you', \"you're\", \"you've\", \"you'll\", \"you'd\", 'your', 'yours', 'yourself', 'yourselves', 'he', 'him', 'his', 'himself', 'she', \"she's\", 'her', 'hers', 'herself', 'it', \"it's\", 'its', 'itself', 'they', 'them', 'their', 'theirs', 'themselves', 'what', 'which', 'who', 'whom', 'this', 'that', \"that'll\", 'these', 'those', 'am', 'is', 'are', 'was', 'were', 'be', 'been', 'being', 'have', 'has', 'had', 'having', 'do', 'does', 'did', 'doing', 'a', 'an', 'the', 'and', 'but', 'if', 'or', 'because', 'as', 'until', 'while', 'of', 'at', 'by', 'for', 'with', 'about', 'against', 'between', 'into', 'through', 'during', 'before', 'after', 'above', 'below', 'to', 'from', 'up', 'down', 'in', 'out', 'on', 'off', 'over', 'under', 'again', 'further', 'then', 'once', 'here', 'there', 'when', 'where', 'why', 'how', 'all', 'any', 'both', 'each', 'few', 'more', 'most', 'other', 'some', 'such', 'no', 'nor', 'not', 'only', 'own', 'same', 'so', 'than', 'too', 'very', 's', 't', 'can', 'will', 'just', 'don', \"don't\", 'should', \"should've\", 'now', 'd', 'll', 'm', 'o', 're', 've', 'y', 'ain', 'aren', \"aren't\", 'couldn', \"couldn't\", 'didn', \"didn't\", 'doesn', \"doesn't\", 'hadn', \"hadn't\", 'hasn', \"hasn't\", 'haven', \"haven't\", 'isn', \"isn't\", 'ma', 'mightn', \"mightn't\", 'mustn', \"mustn't\", 'needn', \"needn't\", 'shan', \"shan't\", 'shouldn', \"shouldn't\", 'wasn', \"wasn't\", 'weren', \"weren't\", 'won', \"won't\", 'wouldn', \"wouldn't\"]\n"
     ]
    }
   ],
   "source": [
    "print(stopwords.words('english'))"
   ]
  },
  {
   "cell_type": "code",
   "execution_count": 390,
   "metadata": {},
   "outputs": [],
   "source": [
    "para_stem= [ss.stem(word) for word in para if word not in set(stopwords.words())]"
   ]
  },
  {
   "cell_type": "code",
   "execution_count": 391,
   "metadata": {},
   "outputs": [],
   "source": [
    "para_lmtz= [lmtz.lemmatize(word,pos='v') for word in para if word not in set(stopwords.words())]"
   ]
  },
  {
   "cell_type": "code",
   "execution_count": 392,
   "metadata": {},
   "outputs": [
    {
     "data": {
      "text/plain": [
       "\"in year 1960 , apj abdul kalam ’ graduat place madra institut technolog . the associ kalam place defenc research & develop servic ( drds ) . furthermor , join scientist aeronaut develop establish defenc research develop organis . these begin achiev prestigi career scientist.big achiev kalam project director isro india ‘ first-ev satellit launch vehicl ( slv- iii ) . this satellit respons deploy rohini satellit 1980 . moreov , kalam high influenti develop polar satellit launch vehicl ( pslv ) slv projects.both project success . bring enhanc reput kalam . furthermor , develop ballist missil possibl effort . most noteworthi , kalam earn esteem titl “ the missil man india ” . the govern india awar brillianc made chief execut integr guid missil develop program ( igmdp ) . furthermor , program respons research develop missil . the achiev distinguish n't stop there.mor success form agni prithvi missil . onc , kalam influenti develop missil . it tenur igmdp kalam play instrument role develop missil agni prithvi . moreov , kamal key figur pokhran ii nuclear test .\""
      ]
     },
     "execution_count": 392,
     "metadata": {},
     "output_type": "execute_result"
    }
   ],
   "source": [
    "\" \".join(para_stem)"
   ]
  },
  {
   "cell_type": "code",
   "execution_count": 393,
   "metadata": {},
   "outputs": [
    {
     "data": {
      "text/plain": [
       "\"In year 1960 , APJ Abdul Kalam ’ graduation place Madras Institute Technology . The association Kalam place Defence Research & Development Service ( DRDS ) . Furthermore , join scientist Aeronautical Development Establishment Defence Research Development Organisation . These begin achievements prestigious career scientist.Big achievement Kalam project director ISRO India ‘ first-ever Satellite Launch Vehicle ( SLV- III ) . This satellite responsible deployment Rohini satellite 1980 . Moreover , Kalam highly influential development Polar Satellite Launch Vehicle ( PSLV ) SLV projects.Both project successful . Bringing enhancement reputation Kalam . Furthermore , development ballistic missiles possible efforts . Most noteworthy , Kalam earn esteem title “ The missile Man India ” . The Government India aware brilliance make Chief Executive Integrated Guided Missiles Development Program ( IGMDP ) . Furthermore , program responsible research development Missiles . The achievements distinguish n't stop there.More success form Agni Prithvi missiles . Once , Kalam influential developments missiles . It tenure IGMDP Kalam play instrumental role developments missiles Agni Prithvi . Moreover , Kamal key figure Pokhran II nuclear test .\""
      ]
     },
     "execution_count": 393,
     "metadata": {},
     "output_type": "execute_result"
    }
   ],
   "source": [
    "\" \".join(para_lmtz)"
   ]
  },
  {
   "cell_type": "code",
   "execution_count": 394,
   "metadata": {},
   "outputs": [],
   "source": [
    "lwr_lmtz = []\n",
    "for word in para_lmtz:\n",
    "    lwr_lmtz.append(word.lower())"
   ]
  },
  {
   "cell_type": "code",
   "execution_count": 395,
   "metadata": {},
   "outputs": [
    {
     "name": "stdout",
     "output_type": "stream",
     "text": [
      "['in', 'year', '1960', ',', 'apj', 'abdul', 'kalam', '’', 'graduat', 'place', 'madra', 'institut', 'technolog', '.', 'the', 'associ', 'kalam', 'place', 'defenc', 'research', '&', 'develop', 'servic', '(', 'drds', ')', '.', 'furthermor', ',', 'join', 'scientist', 'aeronaut', 'develop', 'establish', 'defenc', 'research', 'develop', 'organis', '.', 'these', 'begin', 'achiev', 'prestigi', 'career', 'scientist.big', 'achiev', 'kalam', 'project', 'director', 'isro', 'india', '‘', 'first-ev', 'satellit', 'launch', 'vehicl', '(', 'slv-', 'iii', ')', '.', 'this', 'satellit', 'respons', 'deploy', 'rohini', 'satellit', '1980', '.', 'moreov', ',', 'kalam', 'high', 'influenti', 'develop', 'polar', 'satellit', 'launch', 'vehicl', '(', 'pslv', ')', 'slv', 'projects.both', 'project', 'success', '.', 'bring', 'enhanc', 'reput', 'kalam', '.', 'furthermor', ',', 'develop', 'ballist', 'missil', 'possibl', 'effort', '.', 'most', 'noteworthi', ',', 'kalam', 'earn', 'esteem', 'titl', '“', 'the', 'missil', 'man', 'india', '”', '.', 'the', 'govern', 'india', 'awar', 'brillianc', 'made', 'chief', 'execut', 'integr', 'guid', 'missil', 'develop', 'program', '(', 'igmdp', ')', '.', 'furthermor', ',', 'program', 'respons', 'research', 'develop', 'missil', '.', 'the', 'achiev', 'distinguish', \"n't\", 'stop', 'there.mor', 'success', 'form', 'agni', 'prithvi', 'missil', '.', 'onc', ',', 'kalam', 'influenti', 'develop', 'missil', '.', 'it', 'tenur', 'igmdp', 'kalam', 'play', 'instrument', 'role', 'develop', 'missil', 'agni', 'prithvi', '.', 'moreov', ',', 'kamal', 'key', 'figur', 'pokhran', 'ii', 'nuclear', 'test', '.']\n",
      "['in', 'year', '1960', ',', 'apj', 'abdul', 'kalam', '’', 'graduation', 'place', 'madras', 'institute', 'technology', '.', 'the', 'association', 'kalam', 'place', 'defence', 'research', '&', 'development', 'service', '(', 'drds', ')', '.', 'furthermore', ',', 'join', 'scientist', 'aeronautical', 'development', 'establishment', 'defence', 'research', 'development', 'organisation', '.', 'these', 'begin', 'achievements', 'prestigious', 'career', 'scientist.big', 'achievement', 'kalam', 'project', 'director', 'isro', 'india', '‘', 'first-ever', 'satellite', 'launch', 'vehicle', '(', 'slv-', 'iii', ')', '.', 'this', 'satellite', 'responsible', 'deployment', 'rohini', 'satellite', '1980', '.', 'moreover', ',', 'kalam', 'highly', 'influential', 'development', 'polar', 'satellite', 'launch', 'vehicle', '(', 'pslv', ')', 'slv', 'projects.both', 'project', 'successful', '.', 'bringing', 'enhancement', 'reputation', 'kalam', '.', 'furthermore', ',', 'development', 'ballistic', 'missiles', 'possible', 'efforts', '.', 'most', 'noteworthy', ',', 'kalam', 'earn', 'esteem', 'title', '“', 'the', 'missile', 'man', 'india', '”', '.', 'the', 'government', 'india', 'aware', 'brilliance', 'make', 'chief', 'executive', 'integrated', 'guided', 'missiles', 'development', 'program', '(', 'igmdp', ')', '.', 'furthermore', ',', 'program', 'responsible', 'research', 'development', 'missiles', '.', 'the', 'achievements', 'distinguish', \"n't\", 'stop', 'there.more', 'success', 'form', 'agni', 'prithvi', 'missiles', '.', 'once', ',', 'kalam', 'influential', 'developments', 'missiles', '.', 'it', 'tenure', 'igmdp', 'kalam', 'play', 'instrumental', 'role', 'developments', 'missiles', 'agni', 'prithvi', '.', 'moreover', ',', 'kamal', 'key', 'figure', 'pokhran', 'ii', 'nuclear', 'test', '.']\n"
     ]
    }
   ],
   "source": [
    "print(para_stem)\n",
    "print(lwr_lmtz)"
   ]
  },
  {
   "cell_type": "code",
   "execution_count": null,
   "metadata": {},
   "outputs": [],
   "source": []
  }
 ],
 "metadata": {
  "kernelspec": {
   "display_name": "Python 3",
   "language": "python",
   "name": "python3"
  },
  "language_info": {
   "codemirror_mode": {
    "name": "ipython",
    "version": 3
   },
   "file_extension": ".py",
   "mimetype": "text/x-python",
   "name": "python",
   "nbconvert_exporter": "python",
   "pygments_lexer": "ipython3",
   "version": "3.12.5"
  }
 },
 "nbformat": 4,
 "nbformat_minor": 2
}
